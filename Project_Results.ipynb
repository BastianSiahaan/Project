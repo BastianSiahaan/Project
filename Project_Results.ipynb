{
  "nbformat": 4,
  "nbformat_minor": 0,
  "metadata": {
    "colab": {
      "provenance": [],
      "authorship_tag": "ABX9TyNawzjZ3vU8MUev09HEx7vW",
      "include_colab_link": true
    },
    "kernelspec": {
      "name": "python3",
      "display_name": "Python 3"
    },
    "language_info": {
      "name": "python"
    }
  },
  "cells": [
    {
      "cell_type": "markdown",
      "metadata": {
        "id": "view-in-github",
        "colab_type": "text"
      },
      "source": [
        "<a href=\"https://colab.research.google.com/github/BastianSiahaan/Project/blob/main/Project_Results.ipynb\" target=\"_parent\"><img src=\"https://colab.research.google.com/assets/colab-badge.svg\" alt=\"Open In Colab\"/></a>"
      ]
    },
    {
      "cell_type": "markdown",
      "source": [
        "# Our project is an analysis of a dataset about avocados from Kaggle. With the data available in the dataset, our research question is:\n",
        "\n",
        "# ***Can we predict the average retail price using seasonal trends, product type, and regional characteristics?***"
      ],
      "metadata": {
        "id": "iNNuHYg2Jpdy"
      }
    },
    {
      "cell_type": "markdown",
      "source": [
        "# ***CONTEXT***"
      ],
      "metadata": {
        "id": "GSWbL9tgMs5-"
      }
    },
    {
      "cell_type": "markdown",
      "source": [
        "Avocado prices are variable and can change a lot depending on the region, time of year, and type(organic or conventional). These changes can affect many different parties such as grocery stores, farmers, and distributors who need to decide how much to sell, where to ship, and what price to charge.\n",
        "\n",
        "This analysis uses avocado sales data from 2015 to 2017, collected across US cities. We grouped the data by month to look at general trends instead of small and potentially volatile weekly changes. Our goal is to build a model and analysis that can answer our research question."
      ],
      "metadata": {
        "id": "wV9IpFopK_9A"
      }
    },
    {
      "cell_type": "markdown",
      "source": [
        "# ***ANALYSIS***"
      ],
      "metadata": {
        "id": "QledzjyRMvQf"
      }
    },
    {
      "cell_type": "code",
      "execution_count": 27,
      "metadata": {
        "id": "x5IRvcUVD1Uu"
      },
      "outputs": [],
      "source": [
        "import pandas as pd\n",
        "import matplotlib.pyplot as plt\n",
        "import seaborn as sns\n",
        "import statsmodels.api as sm"
      ]
    },
    {
      "cell_type": "code",
      "source": [
        "df = pd.read_csv(\"avocado.csv\")"
      ],
      "metadata": {
        "id": "EMDN9MziEKhm"
      },
      "execution_count": 4,
      "outputs": []
    },
    {
      "cell_type": "code",
      "source": [
        "df['Date'] = pd.to_datetime(df['Date'])\n",
        "df['Year'] = df['Date'].dt.year\n",
        "df['Month'] = df['Date'].dt.month"
      ],
      "metadata": {
        "id": "0TfGwcvEEMKe"
      },
      "execution_count": 17,
      "outputs": []
    },
    {
      "cell_type": "code",
      "source": [
        "df.head()"
      ],
      "metadata": {
        "colab": {
          "base_uri": "https://localhost:8080/",
          "height": 310
        },
        "id": "Z7g7UmM5ETEr",
        "outputId": "f2b94e70-0197-4ea5-e368-b60a27bd73d1"
      },
      "execution_count": 18,
      "outputs": [
        {
          "output_type": "execute_result",
          "data": {
            "text/plain": [
              "   Unnamed: 0       Date  AveragePrice  Total Volume     4046       4225  \\\n",
              "0           0 2015-12-27          1.33      64236.62  1036.74   54454.85   \n",
              "1           1 2015-12-20          1.35      54876.98   674.28   44638.81   \n",
              "2           2 2015-12-13          0.93     118220.22   794.70  109149.67   \n",
              "3           3 2015-12-06          1.08      78992.15  1132.00   71976.41   \n",
              "4           4 2015-11-29          1.28      51039.60   941.48   43838.39   \n",
              "\n",
              "     4770  Total Bags  Small Bags  Large Bags  XLarge Bags          type  \\\n",
              "0   48.16     8696.87     8603.62       93.25          0.0  conventional   \n",
              "1   58.33     9505.56     9408.07       97.49          0.0  conventional   \n",
              "2  130.50     8145.35     8042.21      103.14          0.0  conventional   \n",
              "3   72.58     5811.16     5677.40      133.76          0.0  conventional   \n",
              "4   75.78     6183.95     5986.26      197.69          0.0  conventional   \n",
              "\n",
              "   year  region  Month  Year  Type_Binary  \n",
              "0  2015  Albany     12  2015            0  \n",
              "1  2015  Albany     12  2015            0  \n",
              "2  2015  Albany     12  2015            0  \n",
              "3  2015  Albany     12  2015            0  \n",
              "4  2015  Albany     11  2015            0  "
            ],
            "text/html": [
              "\n",
              "  <div id=\"df-6650194f-ae49-472f-91f3-8986a9974244\" class=\"colab-df-container\">\n",
              "    <div>\n",
              "<style scoped>\n",
              "    .dataframe tbody tr th:only-of-type {\n",
              "        vertical-align: middle;\n",
              "    }\n",
              "\n",
              "    .dataframe tbody tr th {\n",
              "        vertical-align: top;\n",
              "    }\n",
              "\n",
              "    .dataframe thead th {\n",
              "        text-align: right;\n",
              "    }\n",
              "</style>\n",
              "<table border=\"1\" class=\"dataframe\">\n",
              "  <thead>\n",
              "    <tr style=\"text-align: right;\">\n",
              "      <th></th>\n",
              "      <th>Unnamed: 0</th>\n",
              "      <th>Date</th>\n",
              "      <th>AveragePrice</th>\n",
              "      <th>Total Volume</th>\n",
              "      <th>4046</th>\n",
              "      <th>4225</th>\n",
              "      <th>4770</th>\n",
              "      <th>Total Bags</th>\n",
              "      <th>Small Bags</th>\n",
              "      <th>Large Bags</th>\n",
              "      <th>XLarge Bags</th>\n",
              "      <th>type</th>\n",
              "      <th>year</th>\n",
              "      <th>region</th>\n",
              "      <th>Month</th>\n",
              "      <th>Year</th>\n",
              "      <th>Type_Binary</th>\n",
              "    </tr>\n",
              "  </thead>\n",
              "  <tbody>\n",
              "    <tr>\n",
              "      <th>0</th>\n",
              "      <td>0</td>\n",
              "      <td>2015-12-27</td>\n",
              "      <td>1.33</td>\n",
              "      <td>64236.62</td>\n",
              "      <td>1036.74</td>\n",
              "      <td>54454.85</td>\n",
              "      <td>48.16</td>\n",
              "      <td>8696.87</td>\n",
              "      <td>8603.62</td>\n",
              "      <td>93.25</td>\n",
              "      <td>0.0</td>\n",
              "      <td>conventional</td>\n",
              "      <td>2015</td>\n",
              "      <td>Albany</td>\n",
              "      <td>12</td>\n",
              "      <td>2015</td>\n",
              "      <td>0</td>\n",
              "    </tr>\n",
              "    <tr>\n",
              "      <th>1</th>\n",
              "      <td>1</td>\n",
              "      <td>2015-12-20</td>\n",
              "      <td>1.35</td>\n",
              "      <td>54876.98</td>\n",
              "      <td>674.28</td>\n",
              "      <td>44638.81</td>\n",
              "      <td>58.33</td>\n",
              "      <td>9505.56</td>\n",
              "      <td>9408.07</td>\n",
              "      <td>97.49</td>\n",
              "      <td>0.0</td>\n",
              "      <td>conventional</td>\n",
              "      <td>2015</td>\n",
              "      <td>Albany</td>\n",
              "      <td>12</td>\n",
              "      <td>2015</td>\n",
              "      <td>0</td>\n",
              "    </tr>\n",
              "    <tr>\n",
              "      <th>2</th>\n",
              "      <td>2</td>\n",
              "      <td>2015-12-13</td>\n",
              "      <td>0.93</td>\n",
              "      <td>118220.22</td>\n",
              "      <td>794.70</td>\n",
              "      <td>109149.67</td>\n",
              "      <td>130.50</td>\n",
              "      <td>8145.35</td>\n",
              "      <td>8042.21</td>\n",
              "      <td>103.14</td>\n",
              "      <td>0.0</td>\n",
              "      <td>conventional</td>\n",
              "      <td>2015</td>\n",
              "      <td>Albany</td>\n",
              "      <td>12</td>\n",
              "      <td>2015</td>\n",
              "      <td>0</td>\n",
              "    </tr>\n",
              "    <tr>\n",
              "      <th>3</th>\n",
              "      <td>3</td>\n",
              "      <td>2015-12-06</td>\n",
              "      <td>1.08</td>\n",
              "      <td>78992.15</td>\n",
              "      <td>1132.00</td>\n",
              "      <td>71976.41</td>\n",
              "      <td>72.58</td>\n",
              "      <td>5811.16</td>\n",
              "      <td>5677.40</td>\n",
              "      <td>133.76</td>\n",
              "      <td>0.0</td>\n",
              "      <td>conventional</td>\n",
              "      <td>2015</td>\n",
              "      <td>Albany</td>\n",
              "      <td>12</td>\n",
              "      <td>2015</td>\n",
              "      <td>0</td>\n",
              "    </tr>\n",
              "    <tr>\n",
              "      <th>4</th>\n",
              "      <td>4</td>\n",
              "      <td>2015-11-29</td>\n",
              "      <td>1.28</td>\n",
              "      <td>51039.60</td>\n",
              "      <td>941.48</td>\n",
              "      <td>43838.39</td>\n",
              "      <td>75.78</td>\n",
              "      <td>6183.95</td>\n",
              "      <td>5986.26</td>\n",
              "      <td>197.69</td>\n",
              "      <td>0.0</td>\n",
              "      <td>conventional</td>\n",
              "      <td>2015</td>\n",
              "      <td>Albany</td>\n",
              "      <td>11</td>\n",
              "      <td>2015</td>\n",
              "      <td>0</td>\n",
              "    </tr>\n",
              "  </tbody>\n",
              "</table>\n",
              "</div>\n",
              "    <div class=\"colab-df-buttons\">\n",
              "\n",
              "  <div class=\"colab-df-container\">\n",
              "    <button class=\"colab-df-convert\" onclick=\"convertToInteractive('df-6650194f-ae49-472f-91f3-8986a9974244')\"\n",
              "            title=\"Convert this dataframe to an interactive table.\"\n",
              "            style=\"display:none;\">\n",
              "\n",
              "  <svg xmlns=\"http://www.w3.org/2000/svg\" height=\"24px\" viewBox=\"0 -960 960 960\">\n",
              "    <path d=\"M120-120v-720h720v720H120Zm60-500h600v-160H180v160Zm220 220h160v-160H400v160Zm0 220h160v-160H400v160ZM180-400h160v-160H180v160Zm440 0h160v-160H620v160ZM180-180h160v-160H180v160Zm440 0h160v-160H620v160Z\"/>\n",
              "  </svg>\n",
              "    </button>\n",
              "\n",
              "  <style>\n",
              "    .colab-df-container {\n",
              "      display:flex;\n",
              "      gap: 12px;\n",
              "    }\n",
              "\n",
              "    .colab-df-convert {\n",
              "      background-color: #E8F0FE;\n",
              "      border: none;\n",
              "      border-radius: 50%;\n",
              "      cursor: pointer;\n",
              "      display: none;\n",
              "      fill: #1967D2;\n",
              "      height: 32px;\n",
              "      padding: 0 0 0 0;\n",
              "      width: 32px;\n",
              "    }\n",
              "\n",
              "    .colab-df-convert:hover {\n",
              "      background-color: #E2EBFA;\n",
              "      box-shadow: 0px 1px 2px rgba(60, 64, 67, 0.3), 0px 1px 3px 1px rgba(60, 64, 67, 0.15);\n",
              "      fill: #174EA6;\n",
              "    }\n",
              "\n",
              "    .colab-df-buttons div {\n",
              "      margin-bottom: 4px;\n",
              "    }\n",
              "\n",
              "    [theme=dark] .colab-df-convert {\n",
              "      background-color: #3B4455;\n",
              "      fill: #D2E3FC;\n",
              "    }\n",
              "\n",
              "    [theme=dark] .colab-df-convert:hover {\n",
              "      background-color: #434B5C;\n",
              "      box-shadow: 0px 1px 3px 1px rgba(0, 0, 0, 0.15);\n",
              "      filter: drop-shadow(0px 1px 2px rgba(0, 0, 0, 0.3));\n",
              "      fill: #FFFFFF;\n",
              "    }\n",
              "  </style>\n",
              "\n",
              "    <script>\n",
              "      const buttonEl =\n",
              "        document.querySelector('#df-6650194f-ae49-472f-91f3-8986a9974244 button.colab-df-convert');\n",
              "      buttonEl.style.display =\n",
              "        google.colab.kernel.accessAllowed ? 'block' : 'none';\n",
              "\n",
              "      async function convertToInteractive(key) {\n",
              "        const element = document.querySelector('#df-6650194f-ae49-472f-91f3-8986a9974244');\n",
              "        const dataTable =\n",
              "          await google.colab.kernel.invokeFunction('convertToInteractive',\n",
              "                                                    [key], {});\n",
              "        if (!dataTable) return;\n",
              "\n",
              "        const docLinkHtml = 'Like what you see? Visit the ' +\n",
              "          '<a target=\"_blank\" href=https://colab.research.google.com/notebooks/data_table.ipynb>data table notebook</a>'\n",
              "          + ' to learn more about interactive tables.';\n",
              "        element.innerHTML = '';\n",
              "        dataTable['output_type'] = 'display_data';\n",
              "        await google.colab.output.renderOutput(dataTable, element);\n",
              "        const docLink = document.createElement('div');\n",
              "        docLink.innerHTML = docLinkHtml;\n",
              "        element.appendChild(docLink);\n",
              "      }\n",
              "    </script>\n",
              "  </div>\n",
              "\n",
              "\n",
              "    <div id=\"df-9fbd399c-e245-44bb-badb-f1087c5db703\">\n",
              "      <button class=\"colab-df-quickchart\" onclick=\"quickchart('df-9fbd399c-e245-44bb-badb-f1087c5db703')\"\n",
              "                title=\"Suggest charts\"\n",
              "                style=\"display:none;\">\n",
              "\n",
              "<svg xmlns=\"http://www.w3.org/2000/svg\" height=\"24px\"viewBox=\"0 0 24 24\"\n",
              "     width=\"24px\">\n",
              "    <g>\n",
              "        <path d=\"M19 3H5c-1.1 0-2 .9-2 2v14c0 1.1.9 2 2 2h14c1.1 0 2-.9 2-2V5c0-1.1-.9-2-2-2zM9 17H7v-7h2v7zm4 0h-2V7h2v10zm4 0h-2v-4h2v4z\"/>\n",
              "    </g>\n",
              "</svg>\n",
              "      </button>\n",
              "\n",
              "<style>\n",
              "  .colab-df-quickchart {\n",
              "      --bg-color: #E8F0FE;\n",
              "      --fill-color: #1967D2;\n",
              "      --hover-bg-color: #E2EBFA;\n",
              "      --hover-fill-color: #174EA6;\n",
              "      --disabled-fill-color: #AAA;\n",
              "      --disabled-bg-color: #DDD;\n",
              "  }\n",
              "\n",
              "  [theme=dark] .colab-df-quickchart {\n",
              "      --bg-color: #3B4455;\n",
              "      --fill-color: #D2E3FC;\n",
              "      --hover-bg-color: #434B5C;\n",
              "      --hover-fill-color: #FFFFFF;\n",
              "      --disabled-bg-color: #3B4455;\n",
              "      --disabled-fill-color: #666;\n",
              "  }\n",
              "\n",
              "  .colab-df-quickchart {\n",
              "    background-color: var(--bg-color);\n",
              "    border: none;\n",
              "    border-radius: 50%;\n",
              "    cursor: pointer;\n",
              "    display: none;\n",
              "    fill: var(--fill-color);\n",
              "    height: 32px;\n",
              "    padding: 0;\n",
              "    width: 32px;\n",
              "  }\n",
              "\n",
              "  .colab-df-quickchart:hover {\n",
              "    background-color: var(--hover-bg-color);\n",
              "    box-shadow: 0 1px 2px rgba(60, 64, 67, 0.3), 0 1px 3px 1px rgba(60, 64, 67, 0.15);\n",
              "    fill: var(--button-hover-fill-color);\n",
              "  }\n",
              "\n",
              "  .colab-df-quickchart-complete:disabled,\n",
              "  .colab-df-quickchart-complete:disabled:hover {\n",
              "    background-color: var(--disabled-bg-color);\n",
              "    fill: var(--disabled-fill-color);\n",
              "    box-shadow: none;\n",
              "  }\n",
              "\n",
              "  .colab-df-spinner {\n",
              "    border: 2px solid var(--fill-color);\n",
              "    border-color: transparent;\n",
              "    border-bottom-color: var(--fill-color);\n",
              "    animation:\n",
              "      spin 1s steps(1) infinite;\n",
              "  }\n",
              "\n",
              "  @keyframes spin {\n",
              "    0% {\n",
              "      border-color: transparent;\n",
              "      border-bottom-color: var(--fill-color);\n",
              "      border-left-color: var(--fill-color);\n",
              "    }\n",
              "    20% {\n",
              "      border-color: transparent;\n",
              "      border-left-color: var(--fill-color);\n",
              "      border-top-color: var(--fill-color);\n",
              "    }\n",
              "    30% {\n",
              "      border-color: transparent;\n",
              "      border-left-color: var(--fill-color);\n",
              "      border-top-color: var(--fill-color);\n",
              "      border-right-color: var(--fill-color);\n",
              "    }\n",
              "    40% {\n",
              "      border-color: transparent;\n",
              "      border-right-color: var(--fill-color);\n",
              "      border-top-color: var(--fill-color);\n",
              "    }\n",
              "    60% {\n",
              "      border-color: transparent;\n",
              "      border-right-color: var(--fill-color);\n",
              "    }\n",
              "    80% {\n",
              "      border-color: transparent;\n",
              "      border-right-color: var(--fill-color);\n",
              "      border-bottom-color: var(--fill-color);\n",
              "    }\n",
              "    90% {\n",
              "      border-color: transparent;\n",
              "      border-bottom-color: var(--fill-color);\n",
              "    }\n",
              "  }\n",
              "</style>\n",
              "\n",
              "      <script>\n",
              "        async function quickchart(key) {\n",
              "          const quickchartButtonEl =\n",
              "            document.querySelector('#' + key + ' button');\n",
              "          quickchartButtonEl.disabled = true;  // To prevent multiple clicks.\n",
              "          quickchartButtonEl.classList.add('colab-df-spinner');\n",
              "          try {\n",
              "            const charts = await google.colab.kernel.invokeFunction(\n",
              "                'suggestCharts', [key], {});\n",
              "          } catch (error) {\n",
              "            console.error('Error during call to suggestCharts:', error);\n",
              "          }\n",
              "          quickchartButtonEl.classList.remove('colab-df-spinner');\n",
              "          quickchartButtonEl.classList.add('colab-df-quickchart-complete');\n",
              "        }\n",
              "        (() => {\n",
              "          let quickchartButtonEl =\n",
              "            document.querySelector('#df-9fbd399c-e245-44bb-badb-f1087c5db703 button');\n",
              "          quickchartButtonEl.style.display =\n",
              "            google.colab.kernel.accessAllowed ? 'block' : 'none';\n",
              "        })();\n",
              "      </script>\n",
              "    </div>\n",
              "\n",
              "    </div>\n",
              "  </div>\n"
            ],
            "application/vnd.google.colaboratory.intrinsic+json": {
              "type": "dataframe",
              "variable_name": "df",
              "summary": "{\n  \"name\": \"df\",\n  \"rows\": 16953,\n  \"fields\": [\n    {\n      \"column\": \"Unnamed: 0\",\n      \"properties\": {\n        \"dtype\": \"number\",\n        \"std\": 15,\n        \"min\": 0,\n        \"max\": 52,\n        \"num_unique_values\": 53,\n        \"samples\": [\n          19,\n          41,\n          47\n        ],\n        \"semantic_type\": \"\",\n        \"description\": \"\"\n      }\n    },\n    {\n      \"column\": \"Date\",\n      \"properties\": {\n        \"dtype\": \"date\",\n        \"min\": \"2015-01-04 00:00:00\",\n        \"max\": \"2017-12-31 00:00:00\",\n        \"num_unique_values\": 157,\n        \"samples\": [\n          \"2017-07-30 00:00:00\",\n          \"2015-02-15 00:00:00\",\n          \"2017-06-11 00:00:00\"\n        ],\n        \"semantic_type\": \"\",\n        \"description\": \"\"\n      }\n    },\n    {\n      \"column\": \"AveragePrice\",\n      \"properties\": {\n        \"dtype\": \"number\",\n        \"std\": 0.40879983238745693,\n        \"min\": 0.44,\n        \"max\": 3.25,\n        \"num_unique_values\": 259,\n        \"samples\": [\n          0.88,\n          0.91,\n          1.07\n        ],\n        \"semantic_type\": \"\",\n        \"description\": \"\"\n      }\n    },\n    {\n      \"column\": \"Total Volume\",\n      \"properties\": {\n        \"dtype\": \"number\",\n        \"std\": 3381120.4121930217,\n        \"min\": 84.56,\n        \"max\": 61034457.1,\n        \"num_unique_values\": 16941,\n        \"samples\": [\n          4968.79,\n          7983.96,\n          2895.23\n        ],\n        \"semantic_type\": \"\",\n        \"description\": \"\"\n      }\n    },\n    {\n      \"column\": \"4046\",\n      \"properties\": {\n        \"dtype\": \"number\",\n        \"std\": 1243298.6834626144,\n        \"min\": 0.0,\n        \"max\": 22743616.17,\n        \"num_unique_values\": 16447,\n        \"samples\": [\n          7262.03,\n          832.11,\n          67.61\n        ],\n        \"semantic_type\": \"\",\n        \"description\": \"\"\n      }\n    },\n    {\n      \"column\": \"4225\",\n      \"properties\": {\n        \"dtype\": \"number\",\n        \"std\": 1197991.102060159,\n        \"min\": 0.0,\n        \"max\": 20470572.61,\n        \"num_unique_values\": 16818,\n        \"samples\": [\n          60017.2,\n          93528.53,\n          12403360.2\n        ],\n        \"semantic_type\": \"\",\n        \"description\": \"\"\n      }\n    },\n    {\n      \"column\": \"4770\",\n      \"properties\": {\n        \"dtype\": \"number\",\n        \"std\": 109176.66583097423,\n        \"min\": 0.0,\n        \"max\": 2546439.11,\n        \"num_unique_values\": 11263,\n        \"samples\": [\n          30170.73,\n          479.7,\n          275.18\n        ],\n        \"semantic_type\": \"\",\n        \"description\": \"\"\n      }\n    },\n    {\n      \"column\": \"Total Bags\",\n      \"properties\": {\n        \"dtype\": \"number\",\n        \"std\": 937307.7214560542,\n        \"min\": 0.0,\n        \"max\": 16298296.29,\n        \"num_unique_values\": 16804,\n        \"samples\": [\n          24672.79,\n          88872.87,\n          12205.13\n        ],\n        \"semantic_type\": \"\",\n        \"description\": \"\"\n      }\n    },\n    {\n      \"column\": \"Small Bags\",\n      \"properties\": {\n        \"dtype\": \"number\",\n        \"std\": 714316.9222452923,\n        \"min\": 0.0,\n        \"max\": 12567155.58,\n        \"num_unique_values\": 16035,\n        \"samples\": [\n          545.09,\n          11190.0,\n          153156.63\n        ],\n        \"semantic_type\": \"\",\n        \"description\": \"\"\n      }\n    },\n    {\n      \"column\": \"Large Bags\",\n      \"properties\": {\n        \"dtype\": \"number\",\n        \"std\": 226241.0819320549,\n        \"min\": 0.0,\n        \"max\": 4324231.19,\n        \"num_unique_values\": 13949,\n        \"samples\": [\n          1523.11,\n          62353.75,\n          48382.38\n        ],\n        \"semantic_type\": \"\",\n        \"description\": \"\"\n      }\n    },\n    {\n      \"column\": \"XLarge Bags\",\n      \"properties\": {\n        \"dtype\": \"number\",\n        \"std\": 16898.285876346825,\n        \"min\": 0.0,\n        \"max\": 551693.65,\n        \"num_unique_values\": 5101,\n        \"samples\": [\n          4746.69,\n          56.5,\n          7461.2\n        ],\n        \"semantic_type\": \"\",\n        \"description\": \"\"\n      }\n    },\n    {\n      \"column\": \"type\",\n      \"properties\": {\n        \"dtype\": \"category\",\n        \"num_unique_values\": 2,\n        \"samples\": [\n          \"organic\",\n          \"conventional\"\n        ],\n        \"semantic_type\": \"\",\n        \"description\": \"\"\n      }\n    },\n    {\n      \"column\": \"year\",\n      \"properties\": {\n        \"dtype\": \"number\",\n        \"std\": 0,\n        \"min\": 2015,\n        \"max\": 2017,\n        \"num_unique_values\": 3,\n        \"samples\": [\n          2015,\n          2016\n        ],\n        \"semantic_type\": \"\",\n        \"description\": \"\"\n      }\n    },\n    {\n      \"column\": \"region\",\n      \"properties\": {\n        \"dtype\": \"category\",\n        \"num_unique_values\": 54,\n        \"samples\": [\n          \"Indianapolis\",\n          \"Syracuse\"\n        ],\n        \"semantic_type\": \"\",\n        \"description\": \"\"\n      }\n    },\n    {\n      \"column\": \"Month\",\n      \"properties\": {\n        \"dtype\": \"int32\",\n        \"num_unique_values\": 12,\n        \"samples\": [\n          2,\n          3\n        ],\n        \"semantic_type\": \"\",\n        \"description\": \"\"\n      }\n    },\n    {\n      \"column\": \"Year\",\n      \"properties\": {\n        \"dtype\": \"int32\",\n        \"num_unique_values\": 3,\n        \"samples\": [\n          2015,\n          2016\n        ],\n        \"semantic_type\": \"\",\n        \"description\": \"\"\n      }\n    },\n    {\n      \"column\": \"Type_Binary\",\n      \"properties\": {\n        \"dtype\": \"number\",\n        \"std\": 0,\n        \"min\": 0,\n        \"max\": 1,\n        \"num_unique_values\": 2,\n        \"samples\": [\n          1,\n          0\n        ],\n        \"semantic_type\": \"\",\n        \"description\": \"\"\n      }\n    }\n  ]\n}"
            }
          },
          "metadata": {},
          "execution_count": 18
        }
      ]
    },
    {
      "cell_type": "code",
      "source": [
        "df['Type_Binary'] = (df['type'] == 'organic').astype(int)\n",
        "\n",
        "df_monthly = df.groupby(['Year', 'Month', 'region', 'Type_Binary'], as_index=False)['AveragePrice'].mean()\n",
        "df_monthly['Time'] = pd.to_datetime(df_monthly['Year'].astype(str) + '-' + df_monthly['Month'].astype(str) + '-01')"
      ],
      "metadata": {
        "id": "9W0PzQ0GEOPT"
      },
      "execution_count": 20,
      "outputs": []
    },
    {
      "cell_type": "code",
      "source": [
        "plt.figure(figsize=(8, 6))\n",
        "sns.boxplot(x='Type_Binary', y='AveragePrice', data=df_monthly, palette='Set2')\n",
        "plt.xticks([0, 1], ['Conventional', 'Organic'])\n",
        "plt.title(\"Average Price by Avocado Type\")\n",
        "plt.xlabel(\"Avocado Type\")\n",
        "plt.ylabel(\"Average Price ($)\")\n",
        "plt.grid(True)\n",
        "plt.tight_layout()\n",
        "plt.show()"
      ],
      "metadata": {
        "colab": {
          "base_uri": "https://localhost:8080/",
          "height": 714
        },
        "id": "DsHsWs8FFYsH",
        "outputId": "e7c26fd2-c0ec-421d-95bb-1780b7281ea0"
      },
      "execution_count": 21,
      "outputs": [
        {
          "output_type": "stream",
          "name": "stderr",
          "text": [
            "<ipython-input-21-c242521ffd71>:2: FutureWarning: \n",
            "\n",
            "Passing `palette` without assigning `hue` is deprecated and will be removed in v0.14.0. Assign the `x` variable to `hue` and set `legend=False` for the same effect.\n",
            "\n",
            "  sns.boxplot(x='Type_Binary', y='AveragePrice', data=df_monthly, palette='Set2')\n"
          ]
        },
        {
          "output_type": "display_data",
          "data": {
            "text/plain": [
              "<Figure size 800x600 with 1 Axes>"
            ],
            "image/png": "[encoded data removed]"
          },
          "metadata": {}
        }
      ]
    },
    {
      "cell_type": "code",
      "source": [
        "monthly_avg = df_monthly.groupby(['Time'])['AveragePrice'].mean().reset_index()\n",
        "plt.figure(figsize=(12, 6))\n",
        "sns.lineplot(data=monthly_avg, x='Time', y='AveragePrice', marker='o')\n",
        "plt.title(\"National Average Avocado Price Over Time (Monthly)\")\n",
        "plt.xlabel(\"Time\")\n",
        "plt.ylabel(\"Average Price ($)\")\n",
        "plt.grid(True)\n",
        "plt.tight_layout()\n",
        "plt.show()"
      ],
      "metadata": {
        "colab": {
          "base_uri": "https://localhost:8080/",
          "height": 607
        },
        "id": "Old5bb2oIIo2",
        "outputId": "75d59044-13e8-4788-c41f-84c746f0d3eb"
      },
      "execution_count": 22,
      "outputs": [
        {
          "output_type": "display_data",
          "data": {
            "text/plain": [
              "<Figure size 1200x600 with 1 Axes>"
            ],
            "image/png": "[encoded data removed]"
          },
          "metadata": {}
        }
      ]
    },
    {
      "cell_type": "code",
      "source": [
        "X_cat = pd.get_dummies(df_monthly[['region', 'Month']], drop_first=True)\n",
        "X_num = df_monthly[['Type_Binary']]\n",
        "X = pd.concat([X_num, X_cat], axis=1)\n",
        "X = X.astype(float)\n",
        "X = sm.add_constant(X)\n",
        "y = df_monthly['AveragePrice'].astype(float)\n",
        "\n",
        "model = sm.OLS(y, X).fit()\n",
        "print(model.summary())"
      ],
      "metadata": {
        "colab": {
          "base_uri": "https://localhost:8080/"
        },
        "id": "zWlFK-33ILbO",
        "outputId": "34a8117d-1af1-48b4-e6d9-c138edea385c"
      },
      "execution_count": 29,
      "outputs": [
        {
          "output_type": "stream",
          "name": "stdout",
          "text": [
            "                            OLS Regression Results                            \n",
            "==============================================================================\n",
            "Dep. Variable:           AveragePrice   R-squared:                       0.628\n",
            "Model:                            OLS   Adj. R-squared:                  0.623\n",
            "Method:                 Least Squares   F-statistic:                     117.6\n",
            "Date:                Tue, 29 Apr 2025   Prob (F-statistic):               0.00\n",
            "Time:                        20:01:54   Log-Likelihood:                 51.153\n",
            "No. Observations:                3888   AIC:                             9.694\n",
            "Df Residuals:                    3832   BIC:                             360.6\n",
            "Df Model:                          55                                         \n",
            "Covariance Type:            nonrobust                                         \n",
            "==============================================================================================\n",
            "                                 coef    std err          t      P>|t|      [0.025      0.975]\n",
            "----------------------------------------------------------------------------------------------\n",
            "const                          1.1976      0.030     40.571      0.000       1.140       1.255\n",
            "Type_Binary                    0.5013      0.008     64.971      0.000       0.486       0.516\n",
            "Month                          0.0192      0.001     17.147      0.000       0.017       0.021\n",
            "region_Atlanta                -0.2327      0.040     -5.804      0.000      -0.311      -0.154\n",
            "region_BaltimoreWashington    -0.0262      0.040     -0.653      0.514      -0.105       0.052\n",
            "region_Boise                  -0.2357      0.040     -5.879      0.000      -0.314      -0.157\n",
            "region_Boston                 -0.0440      0.040     -1.099      0.272      -0.123       0.035\n",
            "region_BuffaloRochester       -0.0307      0.040     -0.766      0.444      -0.109       0.048\n",
            "region_California             -0.1792      0.040     -4.470      0.000      -0.258      -0.101\n",
            "region_Charlotte               0.0456      0.040      1.138      0.255      -0.033       0.124\n",
            "region_Chicago                -0.0162      0.040     -0.405      0.686      -0.095       0.062\n",
            "region_CincinnatiDayton       -0.3724      0.040     -9.288      0.000      -0.451      -0.294\n",
            "region_Columbus               -0.3150      0.040     -7.857      0.000      -0.394      -0.236\n",
            "region_DallasFtWorth          -0.4890      0.040    -12.198      0.000      -0.568      -0.410\n",
            "region_Denver                 -0.3577      0.040     -8.921      0.000      -0.436      -0.279\n",
            "region_Detroit                -0.2926      0.040     -7.297      0.000      -0.371      -0.214\n",
            "region_GrandRapids            -0.0536      0.040     -1.337      0.181      -0.132       0.025\n",
            "region_GreatLakes             -0.2310      0.040     -5.762      0.000      -0.310      -0.152\n",
            "region_HarrisburgScranton     -0.0444      0.040     -1.107      0.268      -0.123       0.034\n",
            "region_HartfordSpringfield     0.2585      0.040      6.448      0.000       0.180       0.337\n",
            "region_Houston                -0.5263      0.040    -13.126      0.000      -0.605      -0.448\n",
            "region_Indianapolis           -0.2487      0.040     -6.204      0.000      -0.327      -0.170\n",
            "region_Jacksonville           -0.0573      0.040     -1.428      0.153      -0.136       0.021\n",
            "region_LasVegas               -0.1936      0.040     -4.830      0.000      -0.272      -0.115\n",
            "region_LosAngeles             -0.3691      0.040     -9.206      0.000      -0.448      -0.290\n",
            "region_Louisville             -0.2878      0.040     -7.178      0.000      -0.366      -0.209\n",
            "region_MiamiFtLauderdale      -0.1379      0.040     -3.439      0.001      -0.216      -0.059\n",
            "region_Midsouth               -0.1652      0.040     -4.120      0.000      -0.244      -0.087\n",
            "region_Nashville              -0.3644      0.040     -9.089      0.000      -0.443      -0.286\n",
            "region_NewOrleansMobile       -0.2604      0.040     -6.494      0.000      -0.339      -0.182\n",
            "region_NewYork                 0.1673      0.040      4.174      0.000       0.089       0.246\n",
            "region_Northeast               0.0405      0.040      1.010      0.313      -0.038       0.119\n",
            "region_NorthernNewEngland     -0.0897      0.040     -2.238      0.025      -0.168      -0.011\n",
            "region_Orlando                -0.0551      0.040     -1.373      0.170      -0.134       0.024\n",
            "region_Philadelphia            0.0737      0.040      1.839      0.066      -0.005       0.152\n",
            "region_PhoenixTucson          -0.3444      0.040     -8.591      0.000      -0.423      -0.266\n",
            "region_Pittsburgh             -0.1997      0.040     -4.980      0.000      -0.278      -0.121\n",
            "region_Plains                 -0.1312      0.040     -3.272      0.001      -0.210      -0.053\n",
            "region_Portland               -0.2617      0.040     -6.528      0.000      -0.340      -0.183\n",
            "region_RaleighGreensboro      -0.0149      0.040     -0.371      0.711      -0.093       0.064\n",
            "region_RichmondNorfolk        -0.2768      0.040     -6.905      0.000      -0.355      -0.198\n",
            "region_Roanoke                -0.3286      0.040     -8.197      0.000      -0.407      -0.250\n",
            "region_Sacramento              0.0633      0.040      1.579      0.114      -0.015       0.142\n",
            "region_SanDiego               -0.1831      0.040     -4.567      0.000      -0.262      -0.104\n",
            "region_SanFrancisco            0.2544      0.040      6.347      0.000       0.176       0.333\n",
            "region_Seattle                -0.1301      0.040     -3.246      0.001      -0.209      -0.052\n",
            "region_SouthCarolina          -0.1586      0.040     -3.955      0.000      -0.237      -0.080\n",
            "region_SouthCentral           -0.4729      0.040    -11.796      0.000      -0.552      -0.394\n",
            "region_Southeast              -0.1676      0.040     -4.181      0.000      -0.246      -0.089\n",
            "region_Spokane                -0.1270      0.040     -3.169      0.002      -0.206      -0.048\n",
            "region_StLouis                -0.1454      0.040     -3.627      0.000      -0.224      -0.067\n",
            "region_Syracuse               -0.0287      0.040     -0.715      0.475      -0.107       0.050\n",
            "region_Tampa                  -0.1593      0.040     -3.973      0.000      -0.238      -0.081\n",
            "region_TotalUS                -0.2533      0.040     -6.317      0.000      -0.332      -0.175\n",
            "region_West                   -0.3024      0.040     -7.543      0.000      -0.381      -0.224\n",
            "region_WestTexNewMexico       -0.3067      0.040     -7.651      0.000      -0.385      -0.228\n",
            "==============================================================================\n",
            "Omnibus:                      341.673   Durbin-Watson:                   1.460\n",
            "Prob(Omnibus):                  0.000   Jarque-Bera (JB):              637.140\n",
            "Skew:                           0.603   Prob(JB):                    4.43e-139\n",
            "Kurtosis:                       4.574   Cond. No.                         405.\n",
            "==============================================================================\n",
            "\n",
            "Notes:\n",
            "[1] Standard Errors assume that the covariance matrix of the errors is correctly specified.\n"
          ]
        }
      ]
    },
    {
      "cell_type": "markdown",
      "source": [
        "# ***RESULTS***"
      ],
      "metadata": {
        "id": "3-XKufFcMp84"
      }
    },
    {
      "cell_type": "markdown",
      "source": [
        "Our analysis focused on understanding how well avocado prices can be predicted using product type, seasonal trends, and regional characteristics. We used three key outputs to answer our research question: two plots and one regression model.\n",
        "\n",
        "For Plot 1, we found that organic avocados are consistently more expensive than conventional ones. The boxplot showed a clear price difference, with organic avocados typically costing about $0.50 more. This supports the idea that product type is a meaningful predictor in our model.\n",
        "\n",
        "For Plot 2, when we looked at price trends over time (averaged across all U.S. regions), we saw a clear seasonal pattern. Prices tend to increase around mid-year (May–August) and dip during the winter months. This pattern repeats over the years and justifies using month as a predictor to capture seasonality.\n",
        "\n",
        "For our final analysis, we ran a multiple linear regression using region, month, and type as predictors. The model achieved an R-squared of 0.628, meaning it explains about 63% of the variation in avocado prices. This suggests that even with just a few variables, we can build a model that captures most of the key pricing patterns. Furthermore, specific numbers in the regression analysis show that the coefficent for Type_Binary(organic) was around 0.5, confirming that organic avocados are priced higher. Finally, month dummy variables helped capture seasonal trends, and regional dummies showed that some cities consistently have higher prices.\n",
        "\n",
        "Together, these results show that product type, season, and region are strong predictors of avocado prices. While there are certainly other factors we didn’t include (like weather or transportation costs), our simple model still performs well and gives useful insights."
      ],
      "metadata": {
        "id": "PoauzOuhLmpl"
      }
    },
    {
      "cell_type": "markdown",
      "source": [
        "# ***CONCLUSION***"
      ],
      "metadata": {
        "id": "vqGj4wOBMxGT"
      }
    },
    {
      "cell_type": "markdown",
      "source": [
        "In this project, we set out to predict the average retail price of avocados using just three types of information: product type, region, and time of year. After visualizing the data and building a regression model, we found that these simple features explain about 63% of the variation in prices.\n",
        "\n",
        "Our results showed that:\n",
        "\n",
        "\n",
        "\n",
        "*   Organic avocados are consistently more expensive than conventional ones.\n",
        "*   Prices vary across regions, with some cities like New York and San Francisco having higher baseline prices.\n",
        "*   Seasonal trends matter, as prices tend to rise in the summer and fall in the winter.\n",
        "\n",
        "Even though we didn’t include external factors like weather, trade policies, or supply disruptions, our model still performed well. This suggests that much of the variation in avocado pricing can be predicted using just historical sales data.\n",
        "\n",
        "Overall, our model could be useful for businesses looking to forecast prices or plan sales strategies, and it provides a solid foundation for more advanced forecasting tools."
      ],
      "metadata": {
        "id": "pmMkVau_MzPa"
      }
    }
  ]
}